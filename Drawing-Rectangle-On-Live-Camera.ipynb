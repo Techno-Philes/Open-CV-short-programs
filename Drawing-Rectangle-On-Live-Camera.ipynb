{
 "cells": [
  {
   "cell_type": "code",
   "execution_count": 3,
   "metadata": {},
   "outputs": [],
   "source": [
    "import cv2"
   ]
  },
  {
   "cell_type": "code",
   "execution_count": 5,
   "metadata": {},
   "outputs": [],
   "source": [
    "def rectangle(event,x,y,flags,param):\n",
    "    global pt1,pt2,topleft,botright\n",
    "    if event == cv2.EVENT_LBUTTONDOWN:\n",
    "        if topleft == True and botright == True:\n",
    "            topleft = False\n",
    "            botright = False\n",
    "            pt1 = (0,0)\n",
    "            pt2 = (0,0)\n",
    "\n",
    "        if topleft == False:\n",
    "            pt1 = (x,y)\n",
    "            topleft = True\n",
    "            \n",
    "        elif botright == False:\n",
    "            pt2 = (x,y)\n",
    "            botright = True\n",
    "pt1 = (0,0)\n",
    "pt2 = (0,0)\n",
    "topleft = False\n",
    "botright = False\n",
    "\n",
    "cap = cv2.VideoCapture(0) \n",
    "cv2.namedWindow('Draw Here')\n",
    "cv2.setMouseCallback('Draw Here', rectangle) \n",
    "\n",
    "while True:\n",
    "    ret, frame = cap.read()\n",
    "    if topleft:\n",
    "        cv2.circle(frame, center=pt1, radius=5, color=(0,0,255), thickness=-1)\n",
    "    if topleft and botright:\n",
    "        cv2.rectangle(frame, pt1, pt2, (0, 0, 255), 2)\n",
    "    cv2.imshow('Draw Here', frame)\n",
    "    if cv2.waitKey(1) & 0xFF == ord('q'):\n",
    "        break\n",
    "cap.release()\n",
    "cv2.destroyAllWindows()"
   ]
  },
  {
   "cell_type": "code",
   "execution_count": null,
   "metadata": {},
   "outputs": [],
   "source": []
  },
  {
   "cell_type": "code",
   "execution_count": null,
   "metadata": {},
   "outputs": [],
   "source": []
  }
 ],
 "metadata": {
  "kernelspec": {
   "display_name": "NB_546",
   "language": "python",
   "name": "nb_546"
  },
  "language_info": {
   "codemirror_mode": {
    "name": "ipython",
    "version": 3
   },
   "file_extension": ".py",
   "mimetype": "text/x-python",
   "name": "python",
   "nbconvert_exporter": "python",
   "pygments_lexer": "ipython3",
   "version": "3.8.6"
  }
 },
 "nbformat": 4,
 "nbformat_minor": 4
}
